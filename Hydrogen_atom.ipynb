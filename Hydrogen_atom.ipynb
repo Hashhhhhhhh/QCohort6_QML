{
  "nbformat": 4,
  "nbformat_minor": 0,
  "metadata": {
    "colab": {
      "provenance": [],
      "authorship_tag": "ABX9TyPUAmKoE6xOMD0iJ1M12l6V"
    },
    "kernelspec": {
      "name": "python3",
      "display_name": "Python 3"
    },
    "language_info": {
      "name": "python"
    }
  },
  "cells": [
    {
      "cell_type": "markdown",
      "source": [
        "**BUILDING A QUANTUM ARTIFICIAL INTELLIGENCE MODEL:**\n",
        "\n",
        "A quantum AI model is the one that leverages the principles of quantum computing to enhance or optimize the performance of traditional AI algorithms.\n",
        "\n",
        "Deep learning is a subfield of artificial intelligence which is all about training the neural networks i.e., using the data to get the right values for each neuron to be able to predict what we want.\n",
        "Training deep learning AI systems requires massive amounts of data and computational power. This can take minutes to weeks and in the process, it consumes a lot of energy and computational resources.Quantum computing is one of the solution to this problem related to better coomputational efficiency.\n",
        "\n",
        "Here is a quantum AI model which solves one of the most famous problem in quantum chemistry: The lowest energy level or the ground state energy of H2 molecule which is the most stable state!\n",
        "\n",
        "But what is the significance of finding the ground state energy:\n",
        "\n",
        "1. Stability: Ground state represents the most stable configuration of the system and finding this would help us understand and predict the behaviour,stability and reactivity of the molecules.\n",
        "\n",
        "2. Drug design: In drug discovery knowing the ground state of molecules helps in understanding how drugs interact with biological targets, leading to more effective treatments.\n",
        "\n",
        "3. Properties of materials: The ground state determines many properties of materials, such as electrical conductivity, magnetism, and superconductivity. Understanding the ground state can lead to the design of new materials with desirable properties.\n",
        "\n",
        "4. Quantum Optimization: Many optimization problems can be framed as finding the ground state of a corresponding quantum system. The energy landscape of the system represents the solution space, and the ground state corresponds to the optimal solution.\n",
        "\n",
        "What are the challenges in finding the ground state energy:\n",
        "\n",
        "1. The state of a quantum system is described by a wavefunction, which resides in a high-dimensional space called Hilbert space. The size of this space grows exponentially with the number of particles or degrees of freedom in the system, making it extraordinarily difficult to explore and find the ground state using classical methods.\n",
        "\n",
        "2. The energy landscape of a quantum system can be extremely complex, with many local minimas. Finding the global minimum (ground state) is challenging because algorithms can easily get trapped in these local minima.\n",
        "\n",
        "With quantum computing, the qubits represent electrons, which can directly simulate the electrons in the molecules.\n",
        "\n",
        "VQE (Variational Quantum Algorithm) which is a hybrid algorithm that leverages both the properties of classsical and quantum computing is used to find the ground state energy of H2 molecule. The code is designed to run on a quantum simulator (which is a classical computer running a quantum algorithm).\n",
        "\n",
        "\n",
        "\n",
        "\n"
      ],
      "metadata": {
        "id": "7GRiNgWDVPM0"
      }
    },
    {
      "cell_type": "code",
      "source": [
        "pip install pennylane"
      ],
      "metadata": {
        "colab": {
          "base_uri": "https://localhost:8080/"
        },
        "id": "GVWjlShXVXcM",
        "outputId": "f091614b-27c7-4fc7-9605-f0318fb03cf4"
      },
      "execution_count": 1,
      "outputs": [
        {
          "output_type": "stream",
          "name": "stdout",
          "text": [
            "Collecting pennylane\n",
            "  Downloading PennyLane-0.37.0-py3-none-any.whl.metadata (9.3 kB)\n",
            "Requirement already satisfied: numpy<2.0 in /usr/local/lib/python3.10/dist-packages (from pennylane) (1.26.4)\n",
            "Requirement already satisfied: scipy in /usr/local/lib/python3.10/dist-packages (from pennylane) (1.13.1)\n",
            "Requirement already satisfied: networkx in /usr/local/lib/python3.10/dist-packages (from pennylane) (3.3)\n",
            "Collecting rustworkx (from pennylane)\n",
            "  Downloading rustworkx-0.15.1-cp38-abi3-manylinux_2_17_x86_64.manylinux2014_x86_64.whl.metadata (9.9 kB)\n",
            "Requirement already satisfied: autograd in /usr/local/lib/python3.10/dist-packages (from pennylane) (1.6.2)\n",
            "Requirement already satisfied: toml in /usr/local/lib/python3.10/dist-packages (from pennylane) (0.10.2)\n",
            "Collecting appdirs (from pennylane)\n",
            "  Downloading appdirs-1.4.4-py2.py3-none-any.whl.metadata (9.0 kB)\n",
            "Collecting semantic-version>=2.7 (from pennylane)\n",
            "  Downloading semantic_version-2.10.0-py2.py3-none-any.whl.metadata (9.7 kB)\n",
            "Collecting autoray>=0.6.11 (from pennylane)\n",
            "  Downloading autoray-0.6.12-py3-none-any.whl.metadata (5.7 kB)\n",
            "Requirement already satisfied: cachetools in /usr/local/lib/python3.10/dist-packages (from pennylane) (5.4.0)\n",
            "Collecting pennylane-lightning>=0.37 (from pennylane)\n",
            "  Downloading PennyLane_Lightning-0.37.0-cp310-cp310-manylinux_2_28_x86_64.whl.metadata (23 kB)\n",
            "Requirement already satisfied: requests in /usr/local/lib/python3.10/dist-packages (from pennylane) (2.32.3)\n",
            "Requirement already satisfied: typing-extensions in /usr/local/lib/python3.10/dist-packages (from pennylane) (4.12.2)\n",
            "Requirement already satisfied: packaging in /usr/local/lib/python3.10/dist-packages (from pennylane) (24.1)\n",
            "Requirement already satisfied: future>=0.15.2 in /usr/local/lib/python3.10/dist-packages (from autograd->pennylane) (1.0.0)\n",
            "Requirement already satisfied: charset-normalizer<4,>=2 in /usr/local/lib/python3.10/dist-packages (from requests->pennylane) (3.3.2)\n",
            "Requirement already satisfied: idna<4,>=2.5 in /usr/local/lib/python3.10/dist-packages (from requests->pennylane) (3.7)\n",
            "Requirement already satisfied: urllib3<3,>=1.21.1 in /usr/local/lib/python3.10/dist-packages (from requests->pennylane) (2.0.7)\n",
            "Requirement already satisfied: certifi>=2017.4.17 in /usr/local/lib/python3.10/dist-packages (from requests->pennylane) (2024.7.4)\n",
            "Downloading PennyLane-0.37.0-py3-none-any.whl (1.8 MB)\n",
            "\u001b[2K   \u001b[90m━━━━━━━━━━━━━━━━━━━━━━━━━━━━━━━━━━━━━━━━\u001b[0m \u001b[32m1.8/1.8 MB\u001b[0m \u001b[31m18.8 MB/s\u001b[0m eta \u001b[36m0:00:00\u001b[0m\n",
            "\u001b[?25hDownloading autoray-0.6.12-py3-none-any.whl (50 kB)\n",
            "\u001b[2K   \u001b[90m━━━━━━━━━━━━━━━━━━━━━━━━━━━━━━━━━━━━━━━━\u001b[0m \u001b[32m51.0/51.0 kB\u001b[0m \u001b[31m3.0 MB/s\u001b[0m eta \u001b[36m0:00:00\u001b[0m\n",
            "\u001b[?25hDownloading PennyLane_Lightning-0.37.0-cp310-cp310-manylinux_2_28_x86_64.whl (15.5 MB)\n",
            "\u001b[2K   \u001b[90m━━━━━━━━━━━━━━━━━━━━━━━━━━━━━━━━━━━━━━━━\u001b[0m \u001b[32m15.5/15.5 MB\u001b[0m \u001b[31m47.0 MB/s\u001b[0m eta \u001b[36m0:00:00\u001b[0m\n",
            "\u001b[?25hDownloading semantic_version-2.10.0-py2.py3-none-any.whl (15 kB)\n",
            "Downloading appdirs-1.4.4-py2.py3-none-any.whl (9.6 kB)\n",
            "Downloading rustworkx-0.15.1-cp38-abi3-manylinux_2_17_x86_64.manylinux2014_x86_64.whl (2.0 MB)\n",
            "\u001b[2K   \u001b[90m━━━━━━━━━━━━━━━━━━━━━━━━━━━━━━━━━━━━━━━━\u001b[0m \u001b[32m2.0/2.0 MB\u001b[0m \u001b[31m32.4 MB/s\u001b[0m eta \u001b[36m0:00:00\u001b[0m\n",
            "\u001b[?25hInstalling collected packages: appdirs, semantic-version, rustworkx, autoray, pennylane-lightning, pennylane\n",
            "Successfully installed appdirs-1.4.4 autoray-0.6.12 pennylane-0.37.0 pennylane-lightning-0.37.0 rustworkx-0.15.1 semantic-version-2.10.0\n"
          ]
        }
      ]
    },
    {
      "cell_type": "code",
      "source": [
        "#importing libraries:\n",
        "\n",
        "import pennylane as qml\n",
        "import numpy as np\n",
        "import matplotlib.pyplot as plt"
      ],
      "metadata": {
        "id": "B1lfEXtYd_Ao"
      },
      "execution_count": 16,
      "outputs": []
    },
    {
      "cell_type": "markdown",
      "source": [
        "Using quantum mechanics, the ground state energy is found by solving the using the schrodinger's equation:\n",
        "HΨ=EΨ\n",
        "Hence the primary step is about defining the hamiltonian of the H2 molecule. The hamiltonian incorporates the kinetic energy of the electrons, the potential energy due to electron-nucleus attractions, electron-electron repulsions, and nucleus-nucleus repulsions.\n",
        "\n",
        "The bond length of hydrogen in an H2 molecule is 0.74 angstroms (Å).\n",
        "![h2.png](data:image/png;base64,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)\n",
        "\n"
      ],
      "metadata": {
        "id": "GP_JS7Boee34"
      }
    },
    {
      "cell_type": "code",
      "source": [
        "#defining the molecule\n",
        "symbols=[\"H\",\"H\"] #molecule consists of two hydrogen molecules\n",
        "coordinates=np.array([0.0,0.0,0.0,0.0,0.0,0.74]) #first hydrogen at origin and second hydrogen at 0.74 angstroms on the z-axis away from the origin\n",
        "print(coordinates)\n",
        "#generating the hamiltonian:\n",
        "hamiltonian, qubits = qml.qchem.molecular_hamiltonian(symbols,coordinates) #hamiltonian represents the energy of the system.\n",
        "#qubits represents the number of quantum bits needed to simulate the molecule (Using the Jordan-Wigner or Bravyi-Kitaev transformation, each spin-orbital requires one qubit.)\n",
        "#hence for two atoms which has got 4 spin orbitals in total, the no. of qubits=4"
      ],
      "metadata": {
        "colab": {
          "base_uri": "https://localhost:8080/"
        },
        "id": "rIfiBCLNeGj2",
        "outputId": "4dba5d62-cd83-4818-ad68-38a944bdab7f"
      },
      "execution_count": 8,
      "outputs": [
        {
          "output_type": "stream",
          "name": "stdout",
          "text": [
            "[0.   0.   0.   0.   0.   0.74]\n"
          ]
        }
      ]
    },
    {
      "cell_type": "markdown",
      "source": [
        "An ansatz is a parametrized quantum circuit designed to prepare a trial quantum state. The parameters of the ansatz are adjusted to minimize the expectation value of the Hamiltonian, which corresponds to finding the ground state energy of the system. We then initialize the basis state as |0000> and in the context of the H2 molecule, starting from a specific basis state ensures that the ansatz begins from a known reference state, typically the ground state in the computational basis for each qubit."
      ],
      "metadata": {
        "id": "dMXlmebOlwC3"
      }
    },
    {
      "cell_type": "code",
      "source": [
        "#defining the device:\n",
        "dev = qml.device(\"default.qubit\", wires=qubits)\n",
        "#defining the ansatz (the variational quantum circuit): this ckt is used to find the ground state energy of the molecule.\n",
        "def ansatz(params, wires):\n",
        "    qml.BasisState(np.array([0] * qubits), wires=wires)\n",
        " #This line initializes the quantum register in a specific basis state, here the state |0000> if qubits=4\n",
        "    for i in range(qubits):\n",
        "        qml.RY(params[i], wires=wires[i]) #This loop applies a rotation around the Y-axis to each qubit.\n",
        "    for i in range(qubits - 1):\n",
        "        qml.CNOT(wires=[wires[i], wires[i + 1]]) #This loop applies Controlled-NOT (CNOT) gates between consecutive qubits, entangling them.\n"
      ],
      "metadata": {
        "id": "T9VV2m_BjuMd"
      },
      "execution_count": 30,
      "outputs": []
    },
    {
      "cell_type": "markdown",
      "source": [
        "Here, the purpose of applying the RY and CNOT gates is as follows:\n",
        "1. Create Superpositions: The RY gates rotate the qubit states around the Y-axis on the Bloch sphere. This rotation creates superpositions of the computational basis states (e.g., |0⟩ and |1⟩).\n",
        "\n",
        "2. Parameterization: The angle of rotation (params[i]) is a parameter that is optimized during the VQE process. Adjusting these parameters changes the quantum state of the system.\n",
        "\n",
        "3. Exploring the Hilbert Space: The quantum state prepared by these rotations can explore different regions of the Hilbert space. The goal is to find a state that minimizes the expectation value of the Hamiltonian, representing the ground state.\n",
        "\n",
        "4. The CNOT gates create entanglement between consecutive qubits. Entanglement is a key feature in quantum mechanics where the states of qubits become correlated.\n",
        "\n",
        "5. Correlated States: In many quantum systems, especially those involving multiple particles or electrons, the quantum state is not just a product of individual qubit states but rather a complex, entangled state.\n",
        "\n",
        "6. Accurate Ground State Representation: Without entanglement, the ansatz would be limited to separable states (i.e., states that are simply products of individual qubit states), which might not capture the true ground state of the system. Including CNOT gates ensures that the ansatz can represent entangled states, leading to a more accurate approximation of the ground state.\n",
        "\n",
        "\n"
      ],
      "metadata": {
        "id": "M5F22pHYshv9"
      }
    },
    {
      "cell_type": "code",
      "source": [
        "#defining cost function:\n",
        "@qml.qnode(dev)  #his line is a decorator that transforms the cost_fn function into a quantum node, allowing it to run on the quantum device dev.\n",
        "def cost_fn(params):\n",
        "    ansatz(params, wires=range(qubits))\n",
        "    return qml.expval(hamiltonian)\n",
        "np.random.seed(42) #fixed seed for reproducibility\n",
        "# Initialize parameters with numpy\n",
        "qubits = 4\n",
        "params = np.random.rand(qubits)\n",
        "\n",
        "# Convert numpy array to PennyLane tensor with requires_grad\n",
        "params = qml.numpy.array(params, requires_grad=True)\n",
        "\n",
        "# Choose an optimizer\n",
        "optimizer = qml.GradientDescentOptimizer(stepsize=0.4)\n",
        "#This line creates an optimizer that will adjust the parameters to minimize the cost function. Specifically, it uses gradient descent with a step size of 0.4.\n",
        "#step size= the number of steps required to reach the minimum\n",
        "#A larger step size allows the optimizer to make more significant updates to the parameters, potentially leading to faster progress initially.\n",
        "#Smaller step sizes lead to smaller updates to the parameters, which means the optimizer makes slower progress toward the minimum."
      ],
      "metadata": {
        "id": "wgEYQHc8nFHR"
      },
      "execution_count": 31,
      "outputs": []
    },
    {
      "cell_type": "markdown",
      "source": [
        "A cost function, also known as an objective function,measures how well a given solution or set of parameters perform with respect to the goal of the optimization problem.In algorithms like VQE, the cost function often refers to the expectation value of a Hamiltonian, which represents the energy of the quantum state prepared by the variational ansatz.\n",
        "\n",
        "A parameterized quantum circuit (ansatz) is used to prepare a trial quantum state. The parameters in this circuit are adjusted to explore different quantum states. The Hamiltonian of the quantum system is an operator that represents the total energy of the system. To find the ground state energy, we need to compute the expectation value of this Hamiltonian for the trial quantum state prepared by the ansatz. The cost function in VQE is defined as the expectation value of the Hamiltonian with respect to the quantum state prepared by the ansatz. The parameters 𝜃 are optimized to minimize the cost function. This process involves varying the parameters to find the values that give the lowest expectation value of the Hamiltonian, which corresponds to the ground state energy."
      ],
      "metadata": {
        "id": "mldXJu4-ttE7"
      }
    },
    {
      "cell_type": "code",
      "source": [
        "#Optimization loop:\n",
        "# Number of optimization steps\n",
        "max_iterations = 100 #This sets the maximum number of steps the optimization will take. In this case, it is 100 steps.\n",
        "conv_tol = 1e-06 #This defines the convergence tolerance. If the change in energy between steps is less than this value, the optimization will stop.\n",
        "\n",
        "# Optimization loop\n",
        "energies = [] #This initializes an empty list to store the energies calculated at each step.\n",
        "\n",
        "for n in range(max_iterations): #This starts a loop that will run up to max_iterations times.\n",
        "    params, prev_energy = optimizer.step_and_cost(cost_fn, params)\n",
        "    #The above line performs one step of optimization. It updates the parameters and returns the new parameters and the previous energy.\n",
        "\n",
        "    energy = cost_fn(params) # This calculates the current energy using the updated parameters.\n",
        "    energies.append(energy) #This adds the current energy to the energies list.\n",
        "    if np.abs(energy - prev_energy) < conv_tol:\n",
        "        break\n",
        "#This checks if the absolute difference between the current energy and the previous energy is less than the convergence tolerance. If it is, the loop stops early because the optimization has converged.\n",
        "    print(f\"Step = {n}, Energy = {energy:.8f} Ha\")\n",
        "# This prints the current step number and the energy in Hartree (Ha) to eight decimal places.\n",
        "print(f\"Final ground state energy = {energy:.8f} Ha\")\n",
        "#After the loop, this prints the final ground state energy.\n"
      ],
      "metadata": {
        "colab": {
          "base_uri": "https://localhost:8080/"
        },
        "id": "tcii0ZsYnniy",
        "outputId": "72d7263f-136d-4572-fedf-2ca3a5e52317"
      },
      "execution_count": 32,
      "outputs": [
        {
          "output_type": "stream",
          "name": "stdout",
          "text": [
            "Step = 0, Energy = 1.40040436 Ha\n",
            "Step = 1, Energy = 1.39377357 Ha\n",
            "Step = 2, Energy = 1.38602898 Ha\n",
            "Step = 3, Energy = 1.37688214 Ha\n",
            "Step = 4, Energy = 1.36595377 Ha\n",
            "Step = 5, Energy = 1.35274042 Ha\n",
            "Step = 6, Energy = 1.33657169 Ha\n",
            "Step = 7, Energy = 1.31655916 Ha\n",
            "Step = 8, Energy = 1.29154373 Ha\n",
            "Step = 9, Energy = 1.26006129 Ha\n",
            "Step = 10, Energy = 1.22037054 Ha\n",
            "Step = 11, Energy = 1.17062226 Ha\n",
            "Step = 12, Energy = 1.10927724 Ha\n",
            "Step = 13, Energy = 1.03584026 Ha\n",
            "Step = 14, Energy = 0.95177135 Ha\n",
            "Step = 15, Energy = 0.86105933 Ha\n",
            "Step = 16, Energy = 0.76974278 Ha\n",
            "Step = 17, Energy = 0.68420726 Ha\n",
            "Step = 18, Energy = 0.60918981 Ha\n",
            "Step = 19, Energy = 0.54677922 Ha\n",
            "Step = 20, Energy = 0.49675027 Ha\n",
            "Step = 21, Energy = 0.45755201 Ha\n",
            "Step = 22, Energy = 0.42720211 Ha\n",
            "Step = 23, Energy = 0.40380829 Ha\n",
            "Step = 24, Energy = 0.38577584 Ha\n",
            "Step = 25, Energy = 0.37184079 Ha\n",
            "Step = 26, Energy = 0.36103130 Ha\n",
            "Step = 27, Energy = 0.35261019 Ha\n",
            "Step = 28, Energy = 0.34602081 Ha\n",
            "Step = 29, Energy = 0.34084253 Ha\n",
            "Step = 30, Energy = 0.33675648 Ha\n",
            "Step = 31, Energy = 0.33351981 Ha\n",
            "Step = 32, Energy = 0.33094662 Ha\n",
            "Step = 33, Energy = 0.32889385 Ha\n",
            "Step = 34, Energy = 0.32725089 Ha\n",
            "Step = 35, Energy = 0.32593178 Ha\n",
            "Step = 36, Energy = 0.32486945 Ha\n",
            "Step = 37, Energy = 0.32401137 Ha\n",
            "Step = 38, Energy = 0.32331621 Ha\n",
            "Step = 39, Energy = 0.32275138 Ha\n",
            "Step = 40, Energy = 0.32229106 Ha\n",
            "Step = 41, Energy = 0.32191480 Ha\n",
            "Step = 42, Energy = 0.32160628 Ha\n",
            "Step = 43, Energy = 0.32135251 Ha\n",
            "Step = 44, Energy = 0.32114309 Ha\n",
            "Step = 45, Energy = 0.32096969 Ha\n",
            "Step = 46, Energy = 0.32082561 Ha\n",
            "Step = 47, Energy = 0.32070548 Ha\n",
            "Step = 48, Energy = 0.32060493 Ha\n",
            "Step = 49, Energy = 0.32052047 Ha\n",
            "Step = 50, Energy = 0.32044923 Ha\n",
            "Step = 51, Energy = 0.32038892 Ha\n",
            "Step = 52, Energy = 0.32033764 Ha\n",
            "Step = 53, Energy = 0.32029388 Ha\n",
            "Step = 54, Energy = 0.32025637 Ha\n",
            "Step = 55, Energy = 0.32022410 Ha\n",
            "Step = 56, Energy = 0.32019622 Ha\n",
            "Step = 57, Energy = 0.32017203 Ha\n",
            "Step = 58, Energy = 0.32015096 Ha\n",
            "Step = 59, Energy = 0.32013255 Ha\n",
            "Step = 60, Energy = 0.32011639 Ha\n",
            "Step = 61, Energy = 0.32010217 Ha\n",
            "Step = 62, Energy = 0.32008960 Ha\n",
            "Step = 63, Energy = 0.32007846 Ha\n",
            "Step = 64, Energy = 0.32006855 Ha\n",
            "Step = 65, Energy = 0.32005972 Ha\n",
            "Step = 66, Energy = 0.32005182 Ha\n",
            "Step = 67, Energy = 0.32004474 Ha\n",
            "Step = 68, Energy = 0.32003838 Ha\n",
            "Step = 69, Energy = 0.32003265 Ha\n",
            "Step = 70, Energy = 0.32002748 Ha\n",
            "Step = 71, Energy = 0.32002281 Ha\n",
            "Step = 72, Energy = 0.32001858 Ha\n",
            "Step = 73, Energy = 0.32001474 Ha\n",
            "Step = 74, Energy = 0.32001126 Ha\n",
            "Step = 75, Energy = 0.32000809 Ha\n",
            "Step = 76, Energy = 0.32000521 Ha\n",
            "Step = 77, Energy = 0.32000258 Ha\n",
            "Step = 78, Energy = 0.32000018 Ha\n",
            "Step = 79, Energy = 0.31999799 Ha\n",
            "Step = 80, Energy = 0.31999599 Ha\n",
            "Step = 81, Energy = 0.31999417 Ha\n",
            "Step = 82, Energy = 0.31999249 Ha\n",
            "Step = 83, Energy = 0.31999096 Ha\n",
            "Step = 84, Energy = 0.31998956 Ha\n",
            "Step = 85, Energy = 0.31998828 Ha\n",
            "Step = 86, Energy = 0.31998710 Ha\n",
            "Step = 87, Energy = 0.31998602 Ha\n",
            "Final ground state energy = 0.31998503 Ha\n"
          ]
        }
      ]
    },
    {
      "cell_type": "code",
      "source": [
        "# Visualize the results\n",
        "iterations = range(len(energies))\n",
        "\n",
        "plt.plot(iterations, energies)\n",
        "plt.xlabel('Iteration')\n",
        "plt.ylabel('Energy (Ha)')\n",
        "plt.title('Convergence of VQE for H2 Molecule')\n",
        "plt.show()"
      ],
      "metadata": {
        "colab": {
          "base_uri": "https://localhost:8080/",
          "height": 472
        },
        "id": "oL0JCKOQpQ_9",
        "outputId": "35f6b036-c17c-40c2-8789-0af9ba5395db"
      },
      "execution_count": 27,
      "outputs": [
        {
          "output_type": "display_data",
          "data": {
            "text/plain": [
              "<Figure size 640x480 with 1 Axes>"
            ],
            "image/png": "[encoded data removed]"
          },
          "metadata": {}
        }
      ]
    }
  ]
}